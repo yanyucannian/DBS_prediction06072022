{
 "cells": [
  {
   "cell_type": "code",
   "execution_count": 1,
   "id": "7703ebba",
   "metadata": {},
   "outputs": [],
   "source": [
    "import pandas as pd"
   ]
  },
  {
   "cell_type": "code",
   "execution_count": 2,
   "id": "c03bbab1",
   "metadata": {},
   "outputs": [],
   "source": [
    "df = pd.read_csv(\"DBS.csv\")"
   ]
  },
  {
   "cell_type": "code",
   "execution_count": 3,
   "id": "8ebd643c",
   "metadata": {},
   "outputs": [
    {
     "data": {
      "text/html": [
       "<div>\n",
       "<style scoped>\n",
       "    .dataframe tbody tr th:only-of-type {\n",
       "        vertical-align: middle;\n",
       "    }\n",
       "\n",
       "    .dataframe tbody tr th {\n",
       "        vertical-align: top;\n",
       "    }\n",
       "\n",
       "    .dataframe thead th {\n",
       "        text-align: right;\n",
       "    }\n",
       "</style>\n",
       "<table border=\"1\" class=\"dataframe\">\n",
       "  <thead>\n",
       "    <tr style=\"text-align: right;\">\n",
       "      <th></th>\n",
       "      <th>Unnamed: 0</th>\n",
       "      <th>Date</th>\n",
       "      <th>DBS</th>\n",
       "      <th>SGD</th>\n",
       "    </tr>\n",
       "  </thead>\n",
       "  <tbody>\n",
       "    <tr>\n",
       "      <th>0</th>\n",
       "      <td>1</td>\n",
       "      <td>6/20/2017</td>\n",
       "      <td>20.45</td>\n",
       "      <td>1.38925</td>\n",
       "    </tr>\n",
       "    <tr>\n",
       "      <th>1</th>\n",
       "      <td>2</td>\n",
       "      <td>6/19/2017</td>\n",
       "      <td>20.60</td>\n",
       "      <td>1.38707</td>\n",
       "    </tr>\n",
       "    <tr>\n",
       "      <th>2</th>\n",
       "      <td>3</td>\n",
       "      <td>6/16/2017</td>\n",
       "      <td>20.45</td>\n",
       "      <td>1.38324</td>\n",
       "    </tr>\n",
       "    <tr>\n",
       "      <th>3</th>\n",
       "      <td>4</td>\n",
       "      <td>6/15/2017</td>\n",
       "      <td>20.41</td>\n",
       "      <td>1.38378</td>\n",
       "    </tr>\n",
       "    <tr>\n",
       "      <th>4</th>\n",
       "      <td>5</td>\n",
       "      <td>6/14/2017</td>\n",
       "      <td>20.59</td>\n",
       "      <td>1.37595</td>\n",
       "    </tr>\n",
       "    <tr>\n",
       "      <th>...</th>\n",
       "      <td>...</td>\n",
       "      <td>...</td>\n",
       "      <td>...</td>\n",
       "      <td>...</td>\n",
       "    </tr>\n",
       "    <tr>\n",
       "      <th>117</th>\n",
       "      <td>118</td>\n",
       "      <td>12/30/2016</td>\n",
       "      <td>17.09</td>\n",
       "      <td>1.44655</td>\n",
       "    </tr>\n",
       "    <tr>\n",
       "      <th>118</th>\n",
       "      <td>119</td>\n",
       "      <td>12/29/2016</td>\n",
       "      <td>17.13</td>\n",
       "      <td>1.44814</td>\n",
       "    </tr>\n",
       "    <tr>\n",
       "      <th>119</th>\n",
       "      <td>120</td>\n",
       "      <td>12/28/2016</td>\n",
       "      <td>17.22</td>\n",
       "      <td>1.45018</td>\n",
       "    </tr>\n",
       "    <tr>\n",
       "      <th>120</th>\n",
       "      <td>121</td>\n",
       "      <td>12/27/2016</td>\n",
       "      <td>17.19</td>\n",
       "      <td>1.44954</td>\n",
       "    </tr>\n",
       "    <tr>\n",
       "      <th>121</th>\n",
       "      <td>122</td>\n",
       "      <td>12/23/2016</td>\n",
       "      <td>17.14</td>\n",
       "      <td>1.44766</td>\n",
       "    </tr>\n",
       "  </tbody>\n",
       "</table>\n",
       "<p>122 rows × 4 columns</p>\n",
       "</div>"
      ],
      "text/plain": [
       "     Unnamed: 0        Date    DBS      SGD\n",
       "0             1   6/20/2017  20.45  1.38925\n",
       "1             2   6/19/2017  20.60  1.38707\n",
       "2             3   6/16/2017  20.45  1.38324\n",
       "3             4   6/15/2017  20.41  1.38378\n",
       "4             5   6/14/2017  20.59  1.37595\n",
       "..          ...         ...    ...      ...\n",
       "117         118  12/30/2016  17.09  1.44655\n",
       "118         119  12/29/2016  17.13  1.44814\n",
       "119         120  12/28/2016  17.22  1.45018\n",
       "120         121  12/27/2016  17.19  1.44954\n",
       "121         122  12/23/2016  17.14  1.44766\n",
       "\n",
       "[122 rows x 4 columns]"
      ]
     },
     "execution_count": 3,
     "metadata": {},
     "output_type": "execute_result"
    }
   ],
   "source": [
    "df"
   ]
  },
  {
   "cell_type": "code",
   "execution_count": 4,
   "id": "46101f7d",
   "metadata": {},
   "outputs": [],
   "source": [
    "X = df.loc[:,[\"SGD\"]]"
   ]
  },
  {
   "cell_type": "code",
   "execution_count": 5,
   "id": "d4fac8a0",
   "metadata": {},
   "outputs": [],
   "source": [
    "Y = df.loc[:,[\"DBS\"]]"
   ]
  },
  {
   "cell_type": "code",
   "execution_count": 6,
   "id": "934fc7c8",
   "metadata": {},
   "outputs": [],
   "source": [
    "from sklearn import linear_model"
   ]
  },
  {
   "cell_type": "code",
   "execution_count": 7,
   "id": "5223e5d9",
   "metadata": {},
   "outputs": [],
   "source": [
    "model = linear_model.LinearRegression()"
   ]
  },
  {
   "cell_type": "code",
   "execution_count": 8,
   "id": "5dd43b26",
   "metadata": {},
   "outputs": [
    {
     "data": {
      "text/plain": [
       "LinearRegression()"
      ]
     },
     "execution_count": 8,
     "metadata": {},
     "output_type": "execute_result"
    }
   ],
   "source": [
    "#训练\n",
    "model.fit(X,Y)"
   ]
  },
  {
   "cell_type": "code",
   "execution_count": 9,
   "id": "5376940b",
   "metadata": {},
   "outputs": [
    {
     "data": {
      "text/plain": [
       "['__abstractmethods__',\n",
       " '__class__',\n",
       " '__delattr__',\n",
       " '__dict__',\n",
       " '__dir__',\n",
       " '__doc__',\n",
       " '__eq__',\n",
       " '__format__',\n",
       " '__ge__',\n",
       " '__getattribute__',\n",
       " '__getstate__',\n",
       " '__gt__',\n",
       " '__hash__',\n",
       " '__init__',\n",
       " '__init_subclass__',\n",
       " '__le__',\n",
       " '__lt__',\n",
       " '__module__',\n",
       " '__ne__',\n",
       " '__new__',\n",
       " '__reduce__',\n",
       " '__reduce_ex__',\n",
       " '__repr__',\n",
       " '__setattr__',\n",
       " '__setstate__',\n",
       " '__sizeof__',\n",
       " '__str__',\n",
       " '__subclasshook__',\n",
       " '__weakref__',\n",
       " '_abc_impl',\n",
       " '_check_feature_names',\n",
       " '_check_n_features',\n",
       " '_decision_function',\n",
       " '_estimator_type',\n",
       " '_get_param_names',\n",
       " '_get_tags',\n",
       " '_more_tags',\n",
       " '_preprocess_data',\n",
       " '_repr_html_',\n",
       " '_repr_html_inner',\n",
       " '_repr_mimebundle_',\n",
       " '_residues',\n",
       " '_set_intercept',\n",
       " '_validate_data',\n",
       " 'coef_',\n",
       " 'copy_X',\n",
       " 'feature_names_in_',\n",
       " 'fit',\n",
       " 'fit_intercept',\n",
       " 'get_params',\n",
       " 'intercept_',\n",
       " 'n_features_in_',\n",
       " 'n_jobs',\n",
       " 'normalize',\n",
       " 'positive',\n",
       " 'predict',\n",
       " 'rank_',\n",
       " 'score',\n",
       " 'set_params',\n",
       " 'singular_']"
      ]
     },
     "execution_count": 9,
     "metadata": {},
     "output_type": "execute_result"
    }
   ],
   "source": [
    "#查看model内容\n",
    "dir(model)"
   ]
  },
  {
   "cell_type": "code",
   "execution_count": 10,
   "id": "79eb6e43",
   "metadata": {},
   "outputs": [
    {
     "data": {
      "text/plain": [
       "array([[-50.60094302]])"
      ]
     },
     "execution_count": 10,
     "metadata": {},
     "output_type": "execute_result"
    }
   ],
   "source": [
    "model.coef_"
   ]
  },
  {
   "cell_type": "code",
   "execution_count": 11,
   "id": "22923042",
   "metadata": {},
   "outputs": [
    {
     "data": {
      "text/plain": [
       "array([90.22858515])"
      ]
     },
     "execution_count": 11,
     "metadata": {},
     "output_type": "execute_result"
    }
   ],
   "source": [
    "model.intercept_"
   ]
  },
  {
   "cell_type": "code",
   "execution_count": 12,
   "id": "aa5f9fe8",
   "metadata": {},
   "outputs": [],
   "source": [
    "pred = model.predict(X)"
   ]
  },
  {
   "cell_type": "code",
   "execution_count": 13,
   "id": "8d1bd567",
   "metadata": {},
   "outputs": [
    {
     "data": {
      "text/plain": [
       "array([[19.93122506],\n",
       "       [20.04153512],\n",
       "       [20.23533673],\n",
       "       [20.20801222],\n",
       "       [20.6042176 ],\n",
       "       [20.31225016],\n",
       "       [20.18473578],\n",
       "       [20.196374  ],\n",
       "       [20.26266124],\n",
       "       [20.30466002],\n",
       "       [20.43723449],\n",
       "       [20.3198403 ],\n",
       "       [20.3466588 ],\n",
       "       [20.06885962],\n",
       "       [20.23736076],\n",
       "       [20.13109878],\n",
       "       [20.06278751],\n",
       "       [20.36335711],\n",
       "       [20.0784738 ],\n",
       "       [20.17107353],\n",
       "       [19.8958044 ],\n",
       "       [20.07442573],\n",
       "       [20.13464085],\n",
       "       [19.74298955],\n",
       "       [19.90288853],\n",
       "       [19.65342588],\n",
       "       [19.51427329],\n",
       "       [19.18789721],\n",
       "       [19.00978189],\n",
       "       [18.81648629],\n",
       "       [19.08163523],\n",
       "       [19.13628424],\n",
       "       [19.35235027],\n",
       "       [19.52692353],\n",
       "       [19.70149678],\n",
       "       [19.51933338],\n",
       "       [19.53400766],\n",
       "       [19.59068071],\n",
       "       [19.68479847],\n",
       "       [19.76120589],\n",
       "       [19.56183818],\n",
       "       [19.50263507],\n",
       "       [19.47784061],\n",
       "       [19.59776485],\n",
       "       [19.49150286],\n",
       "       [19.48897282],\n",
       "       [19.56285019],\n",
       "       [19.18283711],\n",
       "       [19.1443804 ],\n",
       "       [19.14741645],\n",
       "       [19.28049693],\n",
       "       [19.35336229],\n",
       "       [19.47986465],\n",
       "       [19.53400766],\n",
       "       [19.56993433],\n",
       "       [19.5041531 ],\n",
       "       [19.68732851],\n",
       "       [19.55070597],\n",
       "       [19.69238861],\n",
       "       [19.44545601],\n",
       "       [19.40244521],\n",
       "       [19.4611423 ],\n",
       "       [19.42066154],\n",
       "       [19.54513986],\n",
       "       [19.28555703],\n",
       "       [19.32603778],\n",
       "       [19.27391881],\n",
       "       [18.58169791],\n",
       "       [18.63988899],\n",
       "       [18.79371586],\n",
       "       [18.30845282],\n",
       "       [18.4951703 ],\n",
       "       [18.81294422],\n",
       "       [18.76234328],\n",
       "       [18.86253314],\n",
       "       [18.77347548],\n",
       "       [18.92831437],\n",
       "       [19.13426021],\n",
       "       [19.17018688],\n",
       "       [19.16107871],\n",
       "       [19.00117973],\n",
       "       [18.71781445],\n",
       "       [18.35247564],\n",
       "       [18.47999001],\n",
       "       [18.425341  ],\n",
       "       [18.54779528],\n",
       "       [18.42281095],\n",
       "       [18.37777611],\n",
       "       [18.16474614],\n",
       "       [18.34589751],\n",
       "       [18.34184944],\n",
       "       [18.5437472 ],\n",
       "       [18.44760541],\n",
       "       [18.92325427],\n",
       "       [19.00978189],\n",
       "       [18.81142619],\n",
       "       [18.75778919],\n",
       "       [18.90453193],\n",
       "       [17.77916695],\n",
       "       [18.07720651],\n",
       "       [18.7370428 ],\n",
       "       [18.31604296],\n",
       "       [18.57866185],\n",
       "       [18.01850941],\n",
       "       [18.06354425],\n",
       "       [17.9319818 ],\n",
       "       [18.57714382],\n",
       "       [17.85405635],\n",
       "       [18.07568848],\n",
       "       [18.0068712 ],\n",
       "       [18.03217167],\n",
       "       [17.53830646],\n",
       "       [17.60155764],\n",
       "       [17.39459979],\n",
       "       [17.94665607],\n",
       "       [17.39257575],\n",
       "       [16.86126585],\n",
       "       [17.03179102],\n",
       "       [16.95133553],\n",
       "       [16.8481096 ],\n",
       "       [16.88049421],\n",
       "       [16.97562398]])"
      ]
     },
     "execution_count": 13,
     "metadata": {},
     "output_type": "execute_result"
    }
   ],
   "source": [
    "pred"
   ]
  },
  {
   "cell_type": "code",
   "execution_count": 14,
   "id": "8b97aeac",
   "metadata": {},
   "outputs": [],
   "source": [
    "from sklearn.metrics import mean_squared_error"
   ]
  },
  {
   "cell_type": "code",
   "execution_count": 15,
   "id": "2fd5769c",
   "metadata": {},
   "outputs": [],
   "source": [
    "rmse = mean_squared_error(Y,pred)**0.5"
   ]
  },
  {
   "cell_type": "code",
   "execution_count": 16,
   "id": "593ada36",
   "metadata": {},
   "outputs": [
    {
     "data": {
      "text/plain": [
       "0.6283698867042165"
      ]
     },
     "execution_count": 16,
     "metadata": {},
     "output_type": "execute_result"
    }
   ],
   "source": [
    "rmse"
   ]
  },
  {
   "cell_type": "code",
   "execution_count": 17,
   "id": "5fdcb966",
   "metadata": {},
   "outputs": [],
   "source": [
    "import joblib"
   ]
  },
  {
   "cell_type": "code",
   "execution_count": 18,
   "id": "a6724feb",
   "metadata": {},
   "outputs": [
    {
     "data": {
      "text/plain": [
       "['regression.jl']"
      ]
     },
     "execution_count": 18,
     "metadata": {},
     "output_type": "execute_result"
    }
   ],
   "source": [
    "joblib.dump(model,\"regression.jl\")"
   ]
  },
  {
   "cell_type": "code",
   "execution_count": 19,
   "id": "5bd65d5e",
   "metadata": {},
   "outputs": [],
   "source": [
    "from sklearn import tree"
   ]
  },
  {
   "cell_type": "code",
   "execution_count": 20,
   "id": "93ec755e",
   "metadata": {},
   "outputs": [],
   "source": [
    "model = tree.DecisionTreeRegressor()"
   ]
  },
  {
   "cell_type": "code",
   "execution_count": 21,
   "id": "937eb2b3",
   "metadata": {},
   "outputs": [
    {
     "data": {
      "text/plain": [
       "DecisionTreeRegressor()"
      ]
     },
     "execution_count": 21,
     "metadata": {},
     "output_type": "execute_result"
    }
   ],
   "source": [
    "#训练\n",
    "model.fit(X,Y)"
   ]
  },
  {
   "cell_type": "code",
   "execution_count": 22,
   "id": "9df7fd28",
   "metadata": {},
   "outputs": [],
   "source": [
    "pred = model.predict(X)"
   ]
  },
  {
   "cell_type": "code",
   "execution_count": 23,
   "id": "c944fac0",
   "metadata": {},
   "outputs": [],
   "source": [
    "rmse = mean_squared_error(Y,pred)**0.5"
   ]
  },
  {
   "cell_type": "code",
   "execution_count": 24,
   "id": "209d2dd1",
   "metadata": {},
   "outputs": [
    {
     "data": {
      "text/plain": [
       "0.16306113708124784"
      ]
     },
     "execution_count": 24,
     "metadata": {},
     "output_type": "execute_result"
    }
   ],
   "source": [
    "rmse"
   ]
  },
  {
   "cell_type": "code",
   "execution_count": 25,
   "id": "e0e6c64e",
   "metadata": {},
   "outputs": [
    {
     "data": {
      "text/plain": [
       "['decisiontree.jl']"
      ]
     },
     "execution_count": 25,
     "metadata": {},
     "output_type": "execute_result"
    }
   ],
   "source": [
    "joblib.dump(model,\"decisiontree.jl\")"
   ]
  },
  {
   "cell_type": "code",
   "execution_count": null,
   "id": "b8139ef9",
   "metadata": {},
   "outputs": [],
   "source": []
  }
 ],
 "metadata": {
  "kernelspec": {
   "display_name": "Python 3 (ipykernel)",
   "language": "python",
   "name": "python3"
  },
  "language_info": {
   "codemirror_mode": {
    "name": "ipython",
    "version": 3
   },
   "file_extension": ".py",
   "mimetype": "text/x-python",
   "name": "python",
   "nbconvert_exporter": "python",
   "pygments_lexer": "ipython3",
   "version": "3.9.12"
  }
 },
 "nbformat": 4,
 "nbformat_minor": 5
}
